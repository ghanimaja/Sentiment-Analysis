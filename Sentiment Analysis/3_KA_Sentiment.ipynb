{
  "nbformat": 4,
  "nbformat_minor": 0,
  "metadata": {
    "colab": {
      "name": "KA.ipynb",
      "provenance": [],
      "collapsed_sections": []
    },
    "kernelspec": {
      "name": "python3",
      "display_name": "Python 3"
    },
    "language_info": {
      "name": "python"
    }
  },
  "cells": [
    {
      "cell_type": "code",
      "metadata": {
        "colab": {
          "base_uri": "https://localhost:8080/"
        },
        "id": "TDlEeu49dCsF",
        "outputId": "10fc9100-67d9-4ce7-a0ad-9ee7acef8c3d"
      },
      "source": [
        "!pip install -q wordcloud\n",
        "import wordcloud\n",
        "\n",
        "import nltk\n",
        "nltk.download('stopwords')\n",
        "nltk.download('wordnet')\n",
        "nltk.download('punkt')\n",
        "nltk.download('averaged_perceptron_tagger') \n",
        "\n",
        "import pandas as pd\n",
        "import matplotlib.pyplot as plt\n",
        "import io\n",
        "import unicodedata\n",
        "import numpy as np\n",
        "import re\n",
        "import string"
      ],
      "execution_count": null,
      "outputs": [
        {
          "output_type": "stream",
          "text": [
            "[nltk_data] Downloading package stopwords to /root/nltk_data...\n",
            "[nltk_data]   Unzipping corpora/stopwords.zip.\n",
            "[nltk_data] Downloading package wordnet to /root/nltk_data...\n",
            "[nltk_data]   Unzipping corpora/wordnet.zip.\n",
            "[nltk_data] Downloading package punkt to /root/nltk_data...\n",
            "[nltk_data]   Unzipping tokenizers/punkt.zip.\n",
            "[nltk_data] Downloading package averaged_perceptron_tagger to\n",
            "[nltk_data]     /root/nltk_data...\n",
            "[nltk_data]   Unzipping taggers/averaged_perceptron_tagger.zip.\n"
          ],
          "name": "stdout"
        }
      ]
    },
    {
      "cell_type": "code",
      "metadata": {
        "id": "vNctOutSd7EY"
      },
      "source": [
        "from flask import Flask, render_template, url_for\n",
        "import pandas as pd\n",
        "import numpy as np\n",
        "import csv\n",
        "import matplotlib.pyplot as plt\n",
        "from nltk.corpus import stopwords\n",
        "from nltk.stem import PorterStemmer\n",
        "from nltk import NaiveBayesClassifier\n",
        "from sklearn.model_selection import train_test_split\n",
        "from nltk.stem import PorterStemmer\n",
        "from sklearn import model_selection\n",
        "from sklearn.model_selection import train_test_split\n",
        "from sklearn.feature_extraction.text import TfidfVectorizer\n",
        "from sklearn import svm\n",
        "from sklearn.metrics import accuracy_score\n",
        "\n",
        "import re\n",
        "# using the variable sw to hold all stopwords that are in English\n",
        "sw = stopwords.words('english')\n",
        "\n",
        "# Packages for visuals\n",
        "import matplotlib.pyplot as plt\n",
        "import seaborn as sns; sns.set(font_scale=1.2)"
      ],
      "execution_count": null,
      "outputs": []
    },
    {
      "cell_type": "code",
      "metadata": {
        "id": "J76rt1S1eCm-"
      },
      "source": [
        "ds = pd.read_csv('/content/drive/MyDrive/Deadline/RELEVANT-IRRELEVANT CLEAN NO DUPLICATE.csv')\n",
        "#ds = pd.read_csv('/content/drive/MyDrive/Deadline/Stance-Neutral.csv')\n",
        "#ds = pd.read_csv('/content/drive/MyDrive/Deadline/Positives-Negatives.csv')"
      ],
      "execution_count": null,
      "outputs": []
    },
    {
      "cell_type": "code",
      "metadata": {
        "colab": {
          "base_uri": "https://localhost:8080/",
          "height": 419
        },
        "id": "VEdh2tsyfmvo",
        "outputId": "08390fd4-456c-4505-8618-453c705dadb9"
      },
      "source": [
        "ds"
      ],
      "execution_count": null,
      "outputs": [
        {
          "output_type": "execute_result",
          "data": {
            "text/html": [
              "<div>\n",
              "<style scoped>\n",
              "    .dataframe tbody tr th:only-of-type {\n",
              "        vertical-align: middle;\n",
              "    }\n",
              "\n",
              "    .dataframe tbody tr th {\n",
              "        vertical-align: top;\n",
              "    }\n",
              "\n",
              "    .dataframe thead th {\n",
              "        text-align: right;\n",
              "    }\n",
              "</style>\n",
              "<table border=\"1\" class=\"dataframe\">\n",
              "  <thead>\n",
              "    <tr style=\"text-align: right;\">\n",
              "      <th></th>\n",
              "      <th>Unnamed: 0</th>\n",
              "      <th>text</th>\n",
              "      <th>waktu</th>\n",
              "      <th>jumlah kata</th>\n",
              "      <th>jam</th>\n",
              "      <th>label</th>\n",
              "    </tr>\n",
              "  </thead>\n",
              "  <tbody>\n",
              "    <tr>\n",
              "      <th>0</th>\n",
              "      <td>2</td>\n",
              "      <td>jangan terlalu semangat masuk kelas pagi pagi ...</td>\n",
              "      <td>2021-04-23 11:00:30+00:00</td>\n",
              "      <td>13</td>\n",
              "      <td>siang</td>\n",
              "      <td>1</td>\n",
              "    </tr>\n",
              "    <tr>\n",
              "      <th>1</th>\n",
              "      <td>3</td>\n",
              "      <td>iya asli abis kelas tuh kyk cape banget wkwkwk...</td>\n",
              "      <td>2021-04-23 09:16:45+00:00</td>\n",
              "      <td>18</td>\n",
              "      <td>siang</td>\n",
              "      <td>1</td>\n",
              "    </tr>\n",
              "    <tr>\n",
              "      <th>2</th>\n",
              "      <td>5</td>\n",
              "      <td>punten nanya emang dulu pas kelas offline teru...</td>\n",
              "      <td>2021-04-23 07:49:12+00:00</td>\n",
              "      <td>15</td>\n",
              "      <td>pagi</td>\n",
              "      <td>1</td>\n",
              "    </tr>\n",
              "    <tr>\n",
              "      <th>3</th>\n",
              "      <td>6</td>\n",
              "      <td>kampus max kok cuma kelas asdos hitung max sks...</td>\n",
              "      <td>2021-04-23 04:50:10+00:00</td>\n",
              "      <td>28</td>\n",
              "      <td>pagi</td>\n",
              "      <td>1</td>\n",
              "    </tr>\n",
              "    <tr>\n",
              "      <th>4</th>\n",
              "      <td>7</td>\n",
              "      <td>males bgt mau offline nanggung loh bentar naik...</td>\n",
              "      <td>2021-04-23 04:19:52+00:00</td>\n",
              "      <td>11</td>\n",
              "      <td>pagi</td>\n",
              "      <td>1</td>\n",
              "    </tr>\n",
              "    <tr>\n",
              "      <th>...</th>\n",
              "      <td>...</td>\n",
              "      <td>...</td>\n",
              "      <td>...</td>\n",
              "      <td>...</td>\n",
              "      <td>...</td>\n",
              "      <td>...</td>\n",
              "    </tr>\n",
              "    <tr>\n",
              "      <th>10757</th>\n",
              "      <td>10058</td>\n",
              "      <td>hari kelas gak tatap muka sama aja libur wkwk ...</td>\n",
              "      <td>2021-06-28 04:21:51+00:00</td>\n",
              "      <td>19</td>\n",
              "      <td>pagi</td>\n",
              "      <td>0</td>\n",
              "    </tr>\n",
              "    <tr>\n",
              "      <th>10758</th>\n",
              "      <td>10059</td>\n",
              "      <td>maaf sklh gue udh rencana buat full offline ba...</td>\n",
              "      <td>2021-06-28 02:48:54+00:00</td>\n",
              "      <td>27</td>\n",
              "      <td>pagi</td>\n",
              "      <td>0</td>\n",
              "    </tr>\n",
              "    <tr>\n",
              "      <th>10759</th>\n",
              "      <td>10060</td>\n",
              "      <td>walas tatap muka ngajar matpel mantau anak kel...</td>\n",
              "      <td>2021-06-28 01:46:02+00:00</td>\n",
              "      <td>37</td>\n",
              "      <td>pagi</td>\n",
              "      <td>0</td>\n",
              "    </tr>\n",
              "    <tr>\n",
              "      <th>10760</th>\n",
              "      <td>10061</td>\n",
              "      <td>fyi aja nich buat adek adek gatau jadi kuliah ...</td>\n",
              "      <td>2021-06-27 07:45:00+00:00</td>\n",
              "      <td>19</td>\n",
              "      <td>pagi</td>\n",
              "      <td>0</td>\n",
              "    </tr>\n",
              "    <tr>\n",
              "      <th>10761</th>\n",
              "      <td>10062</td>\n",
              "      <td>kalian ajar kelas maupun sekolah habis udah ta...</td>\n",
              "      <td>2021-06-27 01:40:04+00:00</td>\n",
              "      <td>11</td>\n",
              "      <td>pagi</td>\n",
              "      <td>0</td>\n",
              "    </tr>\n",
              "  </tbody>\n",
              "</table>\n",
              "<p>10762 rows × 6 columns</p>\n",
              "</div>"
            ],
            "text/plain": [
              "       Unnamed: 0  ... label\n",
              "0               2  ...     1\n",
              "1               3  ...     1\n",
              "2               5  ...     1\n",
              "3               6  ...     1\n",
              "4               7  ...     1\n",
              "...           ...  ...   ...\n",
              "10757       10058  ...     0\n",
              "10758       10059  ...     0\n",
              "10759       10060  ...     0\n",
              "10760       10061  ...     0\n",
              "10761       10062  ...     0\n",
              "\n",
              "[10762 rows x 6 columns]"
            ]
          },
          "metadata": {
            "tags": []
          },
          "execution_count": 4
        }
      ]
    },
    {
      "cell_type": "code",
      "metadata": {
        "colab": {
          "base_uri": "https://localhost:8080/",
          "height": 419
        },
        "id": "mxGUTKFmfsRt",
        "outputId": "db702bf5-5e42-4df9-a776-0187f6f75209"
      },
      "source": [
        "ds = ds[ds['text'].notna()]\n",
        "ds"
      ],
      "execution_count": null,
      "outputs": [
        {
          "output_type": "execute_result",
          "data": {
            "text/html": [
              "<div>\n",
              "<style scoped>\n",
              "    .dataframe tbody tr th:only-of-type {\n",
              "        vertical-align: middle;\n",
              "    }\n",
              "\n",
              "    .dataframe tbody tr th {\n",
              "        vertical-align: top;\n",
              "    }\n",
              "\n",
              "    .dataframe thead th {\n",
              "        text-align: right;\n",
              "    }\n",
              "</style>\n",
              "<table border=\"1\" class=\"dataframe\">\n",
              "  <thead>\n",
              "    <tr style=\"text-align: right;\">\n",
              "      <th></th>\n",
              "      <th>Unnamed: 0</th>\n",
              "      <th>text</th>\n",
              "      <th>waktu</th>\n",
              "      <th>jumlah kata</th>\n",
              "      <th>jam</th>\n",
              "      <th>label</th>\n",
              "    </tr>\n",
              "  </thead>\n",
              "  <tbody>\n",
              "    <tr>\n",
              "      <th>0</th>\n",
              "      <td>2</td>\n",
              "      <td>jangan terlalu semangat masuk kelas pagi pagi ...</td>\n",
              "      <td>2021-04-23 11:00:30+00:00</td>\n",
              "      <td>13</td>\n",
              "      <td>siang</td>\n",
              "      <td>1</td>\n",
              "    </tr>\n",
              "    <tr>\n",
              "      <th>1</th>\n",
              "      <td>3</td>\n",
              "      <td>iya asli abis kelas tuh kyk cape banget wkwkwk...</td>\n",
              "      <td>2021-04-23 09:16:45+00:00</td>\n",
              "      <td>18</td>\n",
              "      <td>siang</td>\n",
              "      <td>1</td>\n",
              "    </tr>\n",
              "    <tr>\n",
              "      <th>2</th>\n",
              "      <td>5</td>\n",
              "      <td>punten nanya emang dulu pas kelas offline teru...</td>\n",
              "      <td>2021-04-23 07:49:12+00:00</td>\n",
              "      <td>15</td>\n",
              "      <td>pagi</td>\n",
              "      <td>1</td>\n",
              "    </tr>\n",
              "    <tr>\n",
              "      <th>3</th>\n",
              "      <td>6</td>\n",
              "      <td>kampus max kok cuma kelas asdos hitung max sks...</td>\n",
              "      <td>2021-04-23 04:50:10+00:00</td>\n",
              "      <td>28</td>\n",
              "      <td>pagi</td>\n",
              "      <td>1</td>\n",
              "    </tr>\n",
              "    <tr>\n",
              "      <th>4</th>\n",
              "      <td>7</td>\n",
              "      <td>males bgt mau offline nanggung loh bentar naik...</td>\n",
              "      <td>2021-04-23 04:19:52+00:00</td>\n",
              "      <td>11</td>\n",
              "      <td>pagi</td>\n",
              "      <td>1</td>\n",
              "    </tr>\n",
              "    <tr>\n",
              "      <th>...</th>\n",
              "      <td>...</td>\n",
              "      <td>...</td>\n",
              "      <td>...</td>\n",
              "      <td>...</td>\n",
              "      <td>...</td>\n",
              "      <td>...</td>\n",
              "    </tr>\n",
              "    <tr>\n",
              "      <th>10757</th>\n",
              "      <td>10058</td>\n",
              "      <td>hari kelas gak tatap muka sama aja libur wkwk ...</td>\n",
              "      <td>2021-06-28 04:21:51+00:00</td>\n",
              "      <td>19</td>\n",
              "      <td>pagi</td>\n",
              "      <td>0</td>\n",
              "    </tr>\n",
              "    <tr>\n",
              "      <th>10758</th>\n",
              "      <td>10059</td>\n",
              "      <td>maaf sklh gue udh rencana buat full offline ba...</td>\n",
              "      <td>2021-06-28 02:48:54+00:00</td>\n",
              "      <td>27</td>\n",
              "      <td>pagi</td>\n",
              "      <td>0</td>\n",
              "    </tr>\n",
              "    <tr>\n",
              "      <th>10759</th>\n",
              "      <td>10060</td>\n",
              "      <td>walas tatap muka ngajar matpel mantau anak kel...</td>\n",
              "      <td>2021-06-28 01:46:02+00:00</td>\n",
              "      <td>37</td>\n",
              "      <td>pagi</td>\n",
              "      <td>0</td>\n",
              "    </tr>\n",
              "    <tr>\n",
              "      <th>10760</th>\n",
              "      <td>10061</td>\n",
              "      <td>fyi aja nich buat adek adek gatau jadi kuliah ...</td>\n",
              "      <td>2021-06-27 07:45:00+00:00</td>\n",
              "      <td>19</td>\n",
              "      <td>pagi</td>\n",
              "      <td>0</td>\n",
              "    </tr>\n",
              "    <tr>\n",
              "      <th>10761</th>\n",
              "      <td>10062</td>\n",
              "      <td>kalian ajar kelas maupun sekolah habis udah ta...</td>\n",
              "      <td>2021-06-27 01:40:04+00:00</td>\n",
              "      <td>11</td>\n",
              "      <td>pagi</td>\n",
              "      <td>0</td>\n",
              "    </tr>\n",
              "  </tbody>\n",
              "</table>\n",
              "<p>10761 rows × 6 columns</p>\n",
              "</div>"
            ],
            "text/plain": [
              "       Unnamed: 0  ... label\n",
              "0               2  ...     1\n",
              "1               3  ...     1\n",
              "2               5  ...     1\n",
              "3               6  ...     1\n",
              "4               7  ...     1\n",
              "...           ...  ...   ...\n",
              "10757       10058  ...     0\n",
              "10758       10059  ...     0\n",
              "10759       10060  ...     0\n",
              "10760       10061  ...     0\n",
              "10761       10062  ...     0\n",
              "\n",
              "[10761 rows x 6 columns]"
            ]
          },
          "metadata": {
            "tags": []
          },
          "execution_count": 5
        }
      ]
    },
    {
      "cell_type": "code",
      "metadata": {
        "id": "o5z-_5_EfwLF"
      },
      "source": [
        "from sklearn.feature_extraction.text import TfidfVectorizer\n",
        "from sklearn.compose import ColumnTransformer\n",
        "from sklearn.preprocessing import StandardScaler\n",
        "from sklearn.preprocessing import OneHotEncoder\n",
        "\n",
        "X = ds[['text', 'jam']]\n",
        "y = ds['label']\n",
        "\n",
        "transformer = ColumnTransformer([\n",
        "    ('vectorizer', TfidfVectorizer(ngram_range=(1, 1)), 'text'),\n",
        "    ('scaler', StandardScaler(), ['jumlah kata']),\n",
        "    ('enc', OneHotEncoder(), ['jam'])\n",
        "], remainder='passthrough')\n",
        "\n",
        "X_vec = transformer.fit_transform(X)"
      ],
      "execution_count": null,
      "outputs": []
    },
    {
      "cell_type": "code",
      "metadata": {
        "colab": {
          "base_uri": "https://localhost:8080/"
        },
        "id": "fm5DtQu4yHL3",
        "outputId": "667ab44d-58a2-4018-bf54-dda5c978a79d"
      },
      "source": [
        "transformer"
      ],
      "execution_count": null,
      "outputs": [
        {
          "output_type": "execute_result",
          "data": {
            "text/plain": [
              "ColumnTransformer(n_jobs=None, remainder='passthrough', sparse_threshold=0.3,\n",
              "                  transformer_weights=None,\n",
              "                  transformers=[('vectorizer',\n",
              "                                 TfidfVectorizer(analyzer='word', binary=False,\n",
              "                                                 decode_error='strict',\n",
              "                                                 dtype=<class 'numpy.float64'>,\n",
              "                                                 encoding='utf-8',\n",
              "                                                 input='content',\n",
              "                                                 lowercase=True, max_df=1.0,\n",
              "                                                 max_features=None, min_df=1,\n",
              "                                                 ngram_range=(2, 2), norm='l2',\n",
              "                                                 preprocessor=None,\n",
              "                                                 smooth_idf=True,\n",
              "                                                 stop_words=None,\n",
              "                                                 strip_accents=None,\n",
              "                                                 sublinear_tf=False,\n",
              "                                                 token_pattern='(?u)\\\\b\\\\w\\\\w+\\\\b',\n",
              "                                                 tokenizer=None, use_idf=True,\n",
              "                                                 vocabulary=None),\n",
              "                                 'text'),\n",
              "                                ('enc',\n",
              "                                 OneHotEncoder(categories='auto', drop=None,\n",
              "                                               dtype=<class 'numpy.float64'>,\n",
              "                                               handle_unknown='error',\n",
              "                                               sparse=True),\n",
              "                                 ['jam'])],\n",
              "                  verbose=False)"
            ]
          },
          "metadata": {
            "tags": []
          },
          "execution_count": 9
        }
      ]
    },
    {
      "cell_type": "code",
      "metadata": {
        "id": "SX_2nk0Af31d"
      },
      "source": [
        "from sklearn.svm import SVC\n",
        "from sklearn.neural_network import MLPClassifier\n",
        "from sklearn.model_selection import cross_val_score\n",
        "\n",
        "model = SVC(kernel='linear')\n",
        "model2 = MLPClassifier(hidden_layer_sizes=(4,10), max_iter=100, activation = 'relu', solver='adam', random_state=69)\n",
        "model3 = MLPClassifier(hidden_layer_sizes=(8,10), max_iter=100, activation = 'relu', solver='adam', random_state=69)\n",
        "model4 = MLPClassifier(hidden_layer_sizes=(16,10), max_iter=100, activation = 'relu', solver='adam', random_state=69)\n",
        "#model5 = MLPClassifier(hidden_layer_sizes=(32,10), max_iter=100, activation = 'relu', solver='adam', random_state=69)"
      ],
      "execution_count": null,
      "outputs": []
    },
    {
      "cell_type": "code",
      "metadata": {
        "colab": {
          "base_uri": "https://localhost:8080/",
          "height": 17
        },
        "id": "gTC7fe9Bf9fe",
        "outputId": "eb8d6b8a-7040-4d3c-cf66-ac5f1c9cbee3"
      },
      "source": [
        "from sklearn.model_selection import ShuffleSplit\n",
        "from google.colab import files\n",
        "\n",
        "cv = ShuffleSplit(n_splits=10, test_size=0.2, random_state=69)\n",
        "\n",
        "scores = cross_val_score(model, X_vec, y, cv=cv, scoring='accuracy')\n",
        "scores2 = cross_val_score(model, X_vec, y, cv=cv, scoring='precision_weighted')\n",
        "scores3 = cross_val_score(model, X_vec, y, cv=cv, scoring='recall_weighted')\n",
        "scores4 = cross_val_score(model, X_vec, y, cv=cv, scoring='f1_weighted')\n",
        "\n",
        "avg_score = np.mean(scores)\n",
        "avg_score2 = np.mean(scores2)\n",
        "avg_score3 = np.mean(scores3)\n",
        "avg_score4 = np.mean(scores4)\n",
        "\n",
        "df= pd.DataFrame(data={'Accuracy': np.array(scores).flatten(),\n",
        "                       'Precision':np.array(scores2).flatten(),\n",
        "                       'Recall':np.array(scores3).flatten(),\n",
        "                       'F1 Score':np.array(scores4).flatten()\n",
        "                       })\n",
        "df.to_csv('Stance_Neu-Bi-TextnJam-SVM.csv', index=False)\n",
        "files.download(\"Stance_Neu-Bi-TextnJam-SVM.csv\")\n",
        "\n",
        "\n"
      ],
      "execution_count": null,
      "outputs": [
        {
          "output_type": "display_data",
          "data": {
            "application/javascript": [
              "\n",
              "    async function download(id, filename, size) {\n",
              "      if (!google.colab.kernel.accessAllowed) {\n",
              "        return;\n",
              "      }\n",
              "      const div = document.createElement('div');\n",
              "      const label = document.createElement('label');\n",
              "      label.textContent = `Downloading \"${filename}\": `;\n",
              "      div.appendChild(label);\n",
              "      const progress = document.createElement('progress');\n",
              "      progress.max = size;\n",
              "      div.appendChild(progress);\n",
              "      document.body.appendChild(div);\n",
              "\n",
              "      const buffers = [];\n",
              "      let downloaded = 0;\n",
              "\n",
              "      const channel = await google.colab.kernel.comms.open(id);\n",
              "      // Send a message to notify the kernel that we're ready.\n",
              "      channel.send({})\n",
              "\n",
              "      for await (const message of channel.messages) {\n",
              "        // Send a message to notify the kernel that we're ready.\n",
              "        channel.send({})\n",
              "        if (message.buffers) {\n",
              "          for (const buffer of message.buffers) {\n",
              "            buffers.push(buffer);\n",
              "            downloaded += buffer.byteLength;\n",
              "            progress.value = downloaded;\n",
              "          }\n",
              "        }\n",
              "      }\n",
              "      const blob = new Blob(buffers, {type: 'application/binary'});\n",
              "      const a = document.createElement('a');\n",
              "      a.href = window.URL.createObjectURL(blob);\n",
              "      a.download = filename;\n",
              "      div.appendChild(a);\n",
              "      a.click();\n",
              "      div.remove();\n",
              "    }\n",
              "  "
            ],
            "text/plain": [
              "<IPython.core.display.Javascript object>"
            ]
          },
          "metadata": {
            "tags": []
          }
        },
        {
          "output_type": "display_data",
          "data": {
            "application/javascript": [
              "download(\"download_fcdb8a13-b10a-4807-a7ae-5084d9cdc857\", \"Stance_Neu-Bi-TextnJam-SVM.csv\", 794)"
            ],
            "text/plain": [
              "<IPython.core.display.Javascript object>"
            ]
          },
          "metadata": {
            "tags": []
          }
        }
      ]
    },
    {
      "cell_type": "code",
      "metadata": {
        "colab": {
          "base_uri": "https://localhost:8080/",
          "height": 17
        },
        "id": "iuqaj6agArxs",
        "outputId": "d10614bc-a4e5-42e3-f71d-425461294a96"
      },
      "source": [
        "from google.colab import files\n",
        "df= pd.DataFrame(data={'Accuracy': np.array(scores).flatten(),\n",
        "                       'scores2':np.array(scores2).flatten(),\n",
        "                       'scores3':np.array(scores3).flatten(),\n",
        "                       'scores4':np.array(scores4).flatten()})\n",
        "\n",
        "df.to_csv('haha.csv', index=False)\n",
        "files.download(\"haha.csv\")"
      ],
      "execution_count": null,
      "outputs": [
        {
          "output_type": "display_data",
          "data": {
            "application/javascript": [
              "\n",
              "    async function download(id, filename, size) {\n",
              "      if (!google.colab.kernel.accessAllowed) {\n",
              "        return;\n",
              "      }\n",
              "      const div = document.createElement('div');\n",
              "      const label = document.createElement('label');\n",
              "      label.textContent = `Downloading \"${filename}\": `;\n",
              "      div.appendChild(label);\n",
              "      const progress = document.createElement('progress');\n",
              "      progress.max = size;\n",
              "      div.appendChild(progress);\n",
              "      document.body.appendChild(div);\n",
              "\n",
              "      const buffers = [];\n",
              "      let downloaded = 0;\n",
              "\n",
              "      const channel = await google.colab.kernel.comms.open(id);\n",
              "      // Send a message to notify the kernel that we're ready.\n",
              "      channel.send({})\n",
              "\n",
              "      for await (const message of channel.messages) {\n",
              "        // Send a message to notify the kernel that we're ready.\n",
              "        channel.send({})\n",
              "        if (message.buffers) {\n",
              "          for (const buffer of message.buffers) {\n",
              "            buffers.push(buffer);\n",
              "            downloaded += buffer.byteLength;\n",
              "            progress.value = downloaded;\n",
              "          }\n",
              "        }\n",
              "      }\n",
              "      const blob = new Blob(buffers, {type: 'application/binary'});\n",
              "      const a = document.createElement('a');\n",
              "      a.href = window.URL.createObjectURL(blob);\n",
              "      a.download = filename;\n",
              "      div.appendChild(a);\n",
              "      a.click();\n",
              "      div.remove();\n",
              "    }\n",
              "  "
            ],
            "text/plain": [
              "<IPython.core.display.Javascript object>"
            ]
          },
          "metadata": {
            "tags": []
          }
        },
        {
          "output_type": "display_data",
          "data": {
            "application/javascript": [
              "download(\"download_4201c7c2-acd5-4c5e-86c2-c6a641aca5c8\", \"haha.csv\", 788)"
            ],
            "text/plain": [
              "<IPython.core.display.Javascript object>"
            ]
          },
          "metadata": {
            "tags": []
          }
        }
      ]
    },
    {
      "cell_type": "code",
      "metadata": {
        "id": "6y2Vdrm3dhax"
      },
      "source": [
        "df= pd.DataFrame(data={'Accuracy': np.array(scores).flatten(),\n",
        "                       'Precision':np.array(scores2).flatten(),\n",
        "                       'Recall':np.array(scores3).flatten(),\n",
        "                       'F1 Score':np.array(scores4).flatten(),\n",
        "                       'Avg_Accuracy': np.array(Aavg_score).flatten(),\n",
        "                       'Avg_Precision':np.array(Aavg_score2).flatten(),\n",
        "                       'Avg_Recall':np.array(Aavg_score3).flatten(),\n",
        "                       'Avg_F1': np.array(Aavg_score4).flatten()})\n",
        "df.to_csv('Rel_Irr-Uni-TextOnly-SVM.csv', index=False)\n",
        "files.download(\"Rel_Irr-Uni-TextOnly-SVM.csv\")"
      ],
      "execution_count": null,
      "outputs": []
    }
  ]
}