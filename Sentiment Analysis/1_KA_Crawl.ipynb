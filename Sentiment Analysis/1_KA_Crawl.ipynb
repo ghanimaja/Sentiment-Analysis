{
 "cells": [
  {
   "cell_type": "code",
   "execution_count": 54,
   "metadata": {},
   "outputs": [],
   "source": [
    "import tweepy\n",
    "import sys\n",
    "import jsonpickle\n",
    "import time\n",
    "import json\n",
    "from datetime import datetime\n",
    "from datetime import timedelta"
   ]
  },
  {
   "cell_type": "code",
   "execution_count": 59,
   "metadata": {},
   "outputs": [],
   "source": [
    "consumer_key = '8YuJkfiaawkwn35qXublYGEDX'\n",
    "consumer_secret = 'FLkNFDTdmvDpfKPZeiTPGGUKo84ZeBz9ejyKY8IbeNij1Ra1Xg'\n",
    "access_token = '1050673808-QBpYgHzIeYXpUYp9SJ0wVX7GeX4ySwGhZEJOu7D'\n",
    "access_token_secret = 'biDAKejvNU8Nqc4cKlynNz8d22XjhJkycK5VOKa1lK3NG'\n",
    "\n",
    "auth = tweepy.AppAuthHandler(consumer_key,consumer_secret)"
   ]
  },
  {
   "cell_type": "code",
   "execution_count": 72,
   "metadata": {},
   "outputs": [],
   "source": [
    "since =(datetime.now() + timedelta(days=-7)).strftime(\"%Y-%m-%d\")\n",
    "qry='kelas offline -filter:links -filter:images -filter:videos '+'since:'+since+' lang:in'\n",
    "maxTweets = 10000 # Isi sesuai dengan kebutuhan anda\n",
    "tweetsPerQry = 1000 # dibatasi Twitter maksimum 100\n",
    "fName=since+'Kelas_Offline_Google_Tweets.json' # Nama file hasil scraping\n",
    "\n",
    "api = tweepy.API(auth, wait_on_rate_limit=True,wait_on_rate_limit_notify=True)"
   ]
  },
  {
   "cell_type": "code",
   "execution_count": 73,
   "metadata": {},
   "outputs": [
    {
     "name": "stdout",
     "output_type": "stream",
     "text": [
      "Mulai mengunduh maksimum 10000 tweets\n",
      "Jumlah Tweets telah tersimpan: 395Tidak ada lagi Tweet ditemukan dengan Query=\"kelas offline -filter:links -filter:images -filter:videos since:2021-04-18 lang:in\"\n",
      "\n",
      "Selesai! 395 tweets tersimpan di \"2021-04-18Kelas_Offline_Google_Tweets.json\"\n"
     ]
    }
   ],
   "source": [
    "if (not api):\n",
    "    sys.exit('Otentikasi gagal, mohon cek \"Consumer Key\" & \"Consumer Secret\" Twitter anda')\n",
    "\n",
    "sinceId, max_id, tweetCount = None, -1, 0 \n",
    "\n",
    "print(\"Mulai mengunduh maksimum {0} tweets\".format(maxTweets))\n",
    "with open(fName,'w') as f:\n",
    "    while tweetCount < maxTweets:\n",
    "        try:\n",
    "            if (max_id <= 0):\n",
    "                if (not sinceId):\n",
    "                    new_tweets=api.search(q=qry,count=tweetsPerQry, tweet_mode='extended')\n",
    "                else:\n",
    "                    new_tweets=api.search(q=qry,count=tweetsPerQry,since_id=sinceId, tweet_mode='extended')\n",
    "            else:\n",
    "                if (not sinceId):\n",
    "                    new_tweets=api.search(q=qry,count=tweetsPerQry,max_id=str(max_id - 1), tweet_mode='extended')\n",
    "                else:\n",
    "                    new_tweets=api.search(q=qry,count=tweetsPerQry,max_id=str(max_id - 1),since_id=sinceId, tweet_mode='extended')\n",
    "            if not new_tweets:\n",
    "                print('Tidak ada lagi Tweet ditemukan dengan Query=\"{0}\"'.format(qry));break\n",
    "            for tweet in new_tweets:\n",
    "                if(tweet.created_at.date() < datetime.now().date()) :\n",
    "                    f.write(jsonpickle.encode(tweet._json,unpicklable=False)+'\\n')\n",
    "            tweetCount+=len(new_tweets)\n",
    "            sys.stdout.write(\"\\r\");sys.stdout.write(\"Jumlah Tweets telah tersimpan: %.0f\" %tweetCount);sys.stdout.flush()\n",
    "            max_id=new_tweets[-1].id\n",
    "        except tweepy.TweepError as e:\n",
    "            print(\"some error : \" + str(e));break \n",
    "print ('\\nSelesai! {0} tweets tersimpan di \"{1}\"'.format(tweetCount,fName))\n"
   ]
  },
  {
   "cell_type": "code",
   "execution_count": 74,
   "metadata": {},
   "outputs": [
    {
     "name": "stdout",
     "output_type": "stream",
     "text": [
      "{\n",
      "    \"created_at\": \"Sat Apr 24 23:54:27 +0000 2021\",\n",
      "    \"id\": 1386106291416834049,\n",
      "    \"id_str\": \"1386106291416834049\",\n",
      "    \"full_text\": \"dg adanya rolling masuk ma'had, hari ini waktunya kelas 7 masuk boarding.. mereka sebegitu excited nya bwt masuk boarding sampai sekecil apapun ditanyakan gak bisa tidur dri semenjak ada info masuk offline mahad \\ud83d\\ude2d\",\n",
      "    \"truncated\": false,\n",
      "    \"display_text_range\": [\n",
      "        0,\n",
      "        213\n",
      "    ],\n",
      "    \"entities\": {\n",
      "        \"hashtags\": [],\n",
      "        \"symbols\": [],\n",
      "        \"user_mentions\": [],\n",
      "        \"urls\": []\n",
      "    },\n",
      "    \"metadata\": {\n",
      "        \"iso_language_code\": \"in\",\n",
      "        \"result_type\": \"recent\"\n",
      "    },\n",
      "    \"source\": \"<a href=\\\"http://twitter.com/download/android\\\" rel=\\\"nofollow\\\">Twitter for Android</a>\",\n",
      "    \"in_reply_to_status_id\": null,\n",
      "    \"in_reply_to_status_id_str\": null,\n",
      "    \"in_reply_to_user_id\": null,\n",
      "    \"in_reply_to_user_id_str\": null,\n",
      "    \"in_reply_to_screen_name\": null,\n",
      "    \"user\": {\n",
      "        \"id\": 1339857935699099650,\n",
      "        \"id_str\": \"1339857935699099650\",\n",
      "        \"name\": \"Mugunghwa\\u2077 \\ud83c\\udf3a\",\n",
      "        \"screen_name\": \"vantejkh\",\n",
      "        \"location\": \"\",\n",
      "        \"description\": \"Bangtan Sonyeondan Stan.\",\n",
      "        \"url\": null,\n",
      "        \"entities\": {\n",
      "            \"description\": {\n",
      "                \"urls\": []\n",
      "            }\n",
      "        },\n",
      "        \"protected\": false,\n",
      "        \"followers_count\": 54,\n",
      "        \"friends_count\": 98,\n",
      "        \"listed_count\": 0,\n",
      "        \"created_at\": \"Fri Dec 18 09:00:28 +0000 2020\",\n",
      "        \"favourites_count\": 3942,\n",
      "        \"utc_offset\": null,\n",
      "        \"time_zone\": null,\n",
      "        \"geo_enabled\": true,\n",
      "        \"verified\": false,\n",
      "        \"statuses_count\": 5406,\n",
      "        \"lang\": null,\n",
      "        \"contributors_enabled\": false,\n",
      "        \"is_translator\": false,\n",
      "        \"is_translation_enabled\": false,\n",
      "        \"profile_background_color\": \"F5F8FA\",\n",
      "        \"profile_background_image_url\": null,\n",
      "        \"profile_background_image_url_https\": null,\n",
      "        \"profile_background_tile\": false,\n",
      "        \"profile_image_url\": \"http://pbs.twimg.com/profile_images/1374362093994926081/HoIM8yp0_normal.jpg\",\n",
      "        \"profile_image_url_https\": \"https://pbs.twimg.com/profile_images/1374362093994926081/HoIM8yp0_normal.jpg\",\n",
      "        \"profile_banner_url\": \"https://pbs.twimg.com/profile_banners/1339857935699099650/1618932892\",\n",
      "        \"profile_link_color\": \"1DA1F2\",\n",
      "        \"profile_sidebar_border_color\": \"C0DEED\",\n",
      "        \"profile_sidebar_fill_color\": \"DDEEF6\",\n",
      "        \"profile_text_color\": \"333333\",\n",
      "        \"profile_use_background_image\": true,\n",
      "        \"has_extended_profile\": true,\n",
      "        \"default_profile\": true,\n",
      "        \"default_profile_image\": false,\n",
      "        \"following\": null,\n",
      "        \"follow_request_sent\": null,\n",
      "        \"notifications\": null,\n",
      "        \"translator_type\": \"none\"\n",
      "    },\n",
      "    \"geo\": null,\n",
      "    \"coordinates\": null,\n",
      "    \"place\": null,\n",
      "    \"contributors\": null,\n",
      "    \"is_quote_status\": false,\n",
      "    \"retweet_count\": 0,\n",
      "    \"favorite_count\": 1,\n",
      "    \"favorited\": false,\n",
      "    \"retweeted\": false,\n",
      "    \"lang\": \"in\"\n",
      "}\n"
     ]
    }
   ],
   "source": [
    "with open('2021-04-18Kelas_Offline_Google_Tweets.json', 'r') as f:\n",
    "    \n",
    "    text = f.readline()\n",
    "    tweet = json.loads(text)\n",
    "    \n",
    "    print(json.dumps(tweet, indent=4))\n"
   ]
  },
  {
   "cell_type": "code",
   "execution_count": 75,
   "metadata": {},
   "outputs": [],
   "source": [
    "import json\n",
    "import csv\n",
    "\n",
    "csvFile = open('Q Kelas Offline.csv', 'a', encoding='utf-8', newline='')\n",
    "csvWriter = csv.writer(csvFile)\n",
    "\n",
    "for l in open('2021-04-18Kelas_Offline_Google_Tweets.json'):\n",
    "    tw = json.loads(l)\n",
    "    csvWriter.writerow([tw[\"id\"], tw[\"created_at\"], tw[\"full_text\"]])\n",
    "\n",
    "csvFile.close()"
   ]
  },
  {
   "cell_type": "code",
   "execution_count": null,
   "metadata": {},
   "outputs": [],
   "source": []
  }
 ],
 "metadata": {
  "kernelspec": {
   "display_name": "Python 3",
   "language": "python",
   "name": "python3"
  },
  "language_info": {
   "codemirror_mode": {
    "name": "ipython",
    "version": 3
   },
   "file_extension": ".py",
   "mimetype": "text/x-python",
   "name": "python",
   "nbconvert_exporter": "python",
   "pygments_lexer": "ipython3",
   "version": "3.7.4"
  }
 },
 "nbformat": 4,
 "nbformat_minor": 4
}
