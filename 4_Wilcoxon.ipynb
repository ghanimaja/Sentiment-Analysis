{
  "nbformat": 4,
  "nbformat_minor": 0,
  "metadata": {
    "colab": {
      "name": "Wilcoxon.ipynb",
      "provenance": [],
      "collapsed_sections": []
    },
    "kernelspec": {
      "name": "python3",
      "display_name": "Python 3"
    },
    "language_info": {
      "name": "python"
    }
  },
  "cells": [
    {
      "cell_type": "code",
      "metadata": {
        "id": "QPFoL1zJQHHr"
      },
      "source": [
        "#!pip install pandas\n",
        "import pandas as pd\n",
        "# !pip install scipy\n",
        "from scipy.stats import wilcoxon"
      ],
      "execution_count": null,
      "outputs": []
    },
    {
      "cell_type": "code",
      "metadata": {
        "id": "AYkb9d2pWjnd"
      },
      "source": [
        "# !pip install scipy\n",
        "from scipy.stats import wilcoxon"
      ],
      "execution_count": null,
      "outputs": []
    },
    {
      "cell_type": "markdown",
      "metadata": {
        "id": "up_EQwkVmG-_"
      },
      "source": [
        "POSITIF-NEGATIF UNIGRAM"
      ]
    },
    {
      "cell_type": "code",
      "metadata": {
        "id": "GNoviUXmQSMo"
      },
      "source": [
        "PosNeg_Uni_SVMFeature_Text = pd.read_csv('/content/drive/MyDrive/Deadline/Coba Wilcoxon/PosNeg/Uni/Wilcoxon-PosNeg-Uni-SVM-Text.csv')\n",
        "PosNeg_Uni_SVMFeature_TextnCount = pd.read_csv('/content/drive/MyDrive/Deadline/Coba Wilcoxon/PosNeg/Uni/Wilcoxon-PosNeg-Uni-SVM-TextnCount.csv')\n",
        "PosNeg_Uni_SVMFeature_TextnJam = pd.read_csv('/content/drive/MyDrive/Deadline/Coba Wilcoxon/PosNeg/Uni/Wilcoxon-PosNeg-Uni-SVM-TextnJam.csv')\n",
        "\n",
        "PosNeg_Uni_Model_MLPA = pd.read_csv('/content/drive/MyDrive/Deadline/Coba Wilcoxon/PosNeg/Uni/Wilcoxon-PosNeg-Uni-Model-MLPA.csv')\n",
        "PosNeg_Uni_Model_MLPB = pd.read_csv('/content/drive/MyDrive/Deadline/Coba Wilcoxon/PosNeg/Uni/Wilcoxon-PosNeg-Uni-Model-MLPB.csv')\n",
        "PosNeg_Uni_Model_MLPC = pd.read_csv('/content/drive/MyDrive/Deadline/Coba Wilcoxon/PosNeg/Uni/Wilcoxon-PosNeg-Uni-Model-MLPC.csv')"
      ],
      "execution_count": null,
      "outputs": []
    },
    {
      "cell_type": "code",
      "metadata": {
        "colab": {
          "base_uri": "https://localhost:8080/"
        },
        "id": "6F3Zn3w9Wqy7",
        "outputId": "b0281b40-508a-45a4-8a0a-d0668829ec69"
      },
      "source": [
        "#wilcoxon(PosNeg_Uni_SVMFeature_Text['before'], PosNeg_Uni_SVMFeature_Text['after'], correction=False)\n",
        "#wilcoxon(PosNeg_Uni_SVMFeature_TextnCount['before'], PosNeg_Uni_SVMFeature_TextnCount['after'], correction=False)\n",
        "#wilcoxon(PosNeg_Uni_SVMFeature_TextnJam['before'], PosNeg_Uni_SVMFeature_TextnJam['after'], correction=False)\n",
        "\n",
        "#wilcoxon(PosNeg_Uni_Model_MLPA['before'], PosNeg_Uni_Model_MLPA['after'], correction=False)\n",
        "#wilcoxon(PosNeg_Uni_Model_MLPB['before'], PosNeg_Uni_Model_MLPB['after'], correction=False)\n",
        "wilcoxon(PosNeg_Uni_Model_MLPC['before'], PosNeg_Uni_Model_MLPC['after'], correction=False)"
      ],
      "execution_count": null,
      "outputs": [
        {
          "output_type": "execute_result",
          "data": {
            "text/plain": [
              "WilcoxonResult(statistic=0.0, pvalue=0.005062032126267864)"
            ]
          },
          "metadata": {
            "tags": []
          },
          "execution_count": 23
        }
      ]
    },
    {
      "cell_type": "markdown",
      "metadata": {
        "id": "toeEMyKS2mkL"
      },
      "source": [
        "POSITIF-NEGATIF BIGRAM"
      ]
    },
    {
      "cell_type": "code",
      "metadata": {
        "id": "mpjgtQKA2v4I"
      },
      "source": [
        "PosNeg_Bi_SVMFeature_Text = pd.read_csv('/content/drive/MyDrive/Deadline/Coba Wilcoxon/PosNeg/Bi/Wilcoxon-PosNeg-Bi-SVM-Text.csv')\n",
        "PosNeg_Bi_SVMFeature_TextnCount = pd.read_csv('/content/drive/MyDrive/Deadline/Coba Wilcoxon/PosNeg/Bi/Wilcoxon-PosNeg-Bi-SVM-TextnCount.csv')\n",
        "PosNeg_Bi_SVMFeature_TextnJam = pd.read_csv('/content/drive/MyDrive/Deadline/Coba Wilcoxon/PosNeg/Bi/Wilcoxon-PosNeg-Bi-SVM-TextnJam.csv')\n",
        "\n",
        "PosNeg_Bi_Model_MLPA = pd.read_csv('/content/drive/MyDrive/Deadline/Coba Wilcoxon/PosNeg/Bi/Wilcoxon-PosNeg-Bi-Model-MLPA.csv')\n",
        "PosNeg_Bi_Model_MLPB = pd.read_csv('/content/drive/MyDrive/Deadline/Coba Wilcoxon/PosNeg/Bi/Wilcoxon-PosNeg-Bi-Model-MLPB.csv')\n",
        "PosNeg_Bi_Model_MLPC = pd.read_csv('/content/drive/MyDrive/Deadline/Coba Wilcoxon/PosNeg/Bi/Wilcoxon-PosNeg-Bi-Model-MLPC.csv')"
      ],
      "execution_count": null,
      "outputs": []
    },
    {
      "cell_type": "code",
      "metadata": {
        "colab": {
          "base_uri": "https://localhost:8080/"
        },
        "id": "y4Me6rDB28i4",
        "outputId": "08a63a3d-fa81-4e87-b7a2-7a6193767a0d"
      },
      "source": [
        "#wilcoxon(PosNeg_Bi_SVMFeature_Text['before'], PosNeg_Bi_SVMFeature_Text['after'], correction=False)\n",
        "#wilcoxon(PosNeg_Bi_SVMFeature_TextnCount['before'], PosNeg_Bi_SVMFeature_TextnCount['after'], correction=False)\n",
        "#wilcoxon(PosNeg_Bi_SVMFeature_TextnJam['before'], PosNeg_Bi_SVMFeature_TextnJam['after'], correction=False)\n",
        "\n",
        "#wilcoxon(PosNeg_Bi_Model_MLPA['before'], PosNeg_Bi_Model_MLPA['after'], correction=False)\n",
        "#wilcoxon(PosNeg_Bi_Model_MLPB['before'], PosNeg_Bi_Model_MLPB['after'], correction=False)\n",
        "wilcoxon(PosNeg_Bi_Model_MLPC['before'], PosNeg_Bi_Model_MLPC['after'], correction=False)"
      ],
      "execution_count": null,
      "outputs": [
        {
          "output_type": "execute_result",
          "data": {
            "text/plain": [
              "WilcoxonResult(statistic=0.0, pvalue=0.005033508200606249)"
            ]
          },
          "metadata": {
            "tags": []
          },
          "execution_count": 39
        }
      ]
    },
    {
      "cell_type": "markdown",
      "metadata": {
        "id": "BH_BNFhGj2cQ"
      },
      "source": [
        "STANCE NEUTRAL UNIGRAM"
      ]
    },
    {
      "cell_type": "code",
      "metadata": {
        "id": "iUzBwPf6j6Xx"
      },
      "source": [
        "StaNeu_Uni_SVMFeature_Text = pd.read_csv('/content/drive/MyDrive/Deadline/Coba Wilcoxon/StaNeu/Uni/Wilcoxon-StaNeu-Uni-SVM-Text.csv')\n",
        "StaNeu_Uni_SVMFeature_All = pd.read_csv('/content/drive/MyDrive/Deadline/Coba Wilcoxon/StaNeu/Uni/Wilcoxon-StaNeu-Uni-SVM-All.csv')\n",
        "StaNeu_Uni_SVMFeature_TextnJam = pd.read_csv('/content/drive/MyDrive/Deadline/Coba Wilcoxon/StaNeu/Uni/Wilcoxon-StaNeu-Uni-SVM-TextnJam.csv')\n",
        "\n",
        "StaNeu_Uni_Model_MLPA = pd.read_csv('/content/drive/MyDrive/Deadline/Coba Wilcoxon/StaNeu/Uni/Wilcoxon-StaNeu-Uni-Model-MLPA.csv')\n",
        "StaNeu_Uni_Model_MLPB = pd.read_csv('/content/drive/MyDrive/Deadline/Coba Wilcoxon/StaNeu/Uni/Wilcoxon-StaNeu-Uni-Model-MLPB.csv')\n",
        "StaNeu_Uni_Model_MLPC = pd.read_csv('/content/drive/MyDrive/Deadline/Coba Wilcoxon/StaNeu/Uni/Wilcoxon-StaNeu-Uni-Model-MLPC.csv')"
      ],
      "execution_count": null,
      "outputs": []
    },
    {
      "cell_type": "code",
      "metadata": {
        "colab": {
          "base_uri": "https://localhost:8080/"
        },
        "id": "9w2NY4TukE_4",
        "outputId": "e9a25b4a-b20d-4067-fc43-fe95ef3fa9ee"
      },
      "source": [
        "#wilcoxon(StaNeu_Uni_SVMFeature_Text['before'], StaNeu_Uni_SVMFeature_Text['after'], correction=False)\n",
        "#wilcoxon(StaNeu_Uni_SVMFeature_All['before'], StaNeu_Uni_SVMFeature_All['after'], correction=False)\n",
        "#wilcoxon(StaNeu_Uni_SVMFeature_TextnJam['before'], StaNeu_Uni_SVMFeature_TextnJam['after'], correction=False)\n",
        "\n",
        "#wilcoxon(StaNeu_Uni_Model_MLPA['before'], StaNeu_Uni_Model_MLPA['after'], correction=False)\n",
        "#wilcoxon(StaNeu_Uni_Model_MLPB['before'], StaNeu_Uni_Model_MLPB['after'], correction=False)\n",
        "wilcoxon(StaNeu_Uni_Model_MLPC['before'], StaNeu_Uni_Model_MLPC['after'], correction=False)"
      ],
      "execution_count": null,
      "outputs": [
        {
          "output_type": "execute_result",
          "data": {
            "text/plain": [
              "WilcoxonResult(statistic=0.0, pvalue=0.005062032126267864)"
            ]
          },
          "metadata": {
            "tags": []
          },
          "execution_count": 10
        }
      ]
    },
    {
      "cell_type": "markdown",
      "metadata": {
        "id": "8LSQ3ogAp_J9"
      },
      "source": [
        "STANCE NEUTRAL BIGRAM"
      ]
    },
    {
      "cell_type": "code",
      "metadata": {
        "id": "JXR0wEXkqCFk"
      },
      "source": [
        "StaNeu_Bi_SVMFeature_All = pd.read_csv('/content/drive/MyDrive/Deadline/Coba Wilcoxon/StaNeu/Bi/Wilcoxon-StaNeu-Bi-SVM-All.csv')\n",
        "StaNeu_Bi_SVMFeature_TextnCount = pd.read_csv('/content/drive/MyDrive/Deadline/Coba Wilcoxon/StaNeu/Bi/Wilcoxon-StaNeu-Bi-SVM-TextnCount.csv')\n",
        "StaNeu_Bi_SVMFeature_TextnJam = pd.read_csv('/content/drive/MyDrive/Deadline/Coba Wilcoxon/StaNeu/Bi/Wilcoxon-StaNeu-Bi-SVM-TextnJam.csv')\n",
        "\n",
        "StaNeu_Bi_Model_MLPA = pd.read_csv('/content/drive/MyDrive/Deadline/Coba Wilcoxon/StaNeu/Bi/Wilcoxon-StaNeu-Bi-Model-MLPA.csv')\n",
        "StaNeu_Bi_Model_MLPB = pd.read_csv('/content/drive/MyDrive/Deadline/Coba Wilcoxon/StaNeu/Bi/Wilcoxon-StaNeu-Bi-Model-MLPB.csv')\n",
        "StaNeu_Bi_Model_MLPC = pd.read_csv('/content/drive/MyDrive/Deadline/Coba Wilcoxon/StaNeu/Bi/Wilcoxon-StaNeu-Bi-Model-MLPC.csv')"
      ],
      "execution_count": null,
      "outputs": []
    },
    {
      "cell_type": "code",
      "metadata": {
        "colab": {
          "base_uri": "https://localhost:8080/"
        },
        "id": "lfavRVH4qHqh",
        "outputId": "b30c6412-743f-47ec-9509-58aa5c078b54"
      },
      "source": [
        "#wilcoxon(StaNeu_Bi_SVMFeature_All['before'], StaNeu_Bi_SVMFeature_All['after'], correction=False)\n",
        "#wilcoxon(StaNeu_Bi_SVMFeature_TextnCount['before'], StaNeu_Bi_SVMFeature_TextnCount['after'], correction=False)\n",
        "#wilcoxon(StaNeu_Bi_SVMFeature_TextnJam['before'], StaNeu_Bi_SVMFeature_TextnJam['after'], correction=False)\n",
        "\n",
        "#wilcoxon(StaNeu_Bi_Model_MLPA['before'], StaNeu_Bi_Model_MLPA['after'], correction=False)\n",
        "#wilcoxon(StaNeu_Bi_Model_MLPB['before'], StaNeu_Bi_Model_MLPB['after'], correction=False)\n",
        "wilcoxon(StaNeu_Bi_Model_MLPC['before'], StaNeu_Bi_Model_MLPC['after'], correction=False)"
      ],
      "execution_count": null,
      "outputs": [
        {
          "output_type": "execute_result",
          "data": {
            "text/plain": [
              "WilcoxonResult(statistic=0.0, pvalue=0.005062032126267864)"
            ]
          },
          "metadata": {
            "tags": []
          },
          "execution_count": 11
        }
      ]
    },
    {
      "cell_type": "code",
      "metadata": {
        "id": "R81MmYETqFM6"
      },
      "source": [
        ""
      ],
      "execution_count": null,
      "outputs": []
    },
    {
      "cell_type": "markdown",
      "metadata": {
        "id": "XkC_5EvgmMlm"
      },
      "source": [
        "RELEVAN IRRELEVAN UNIGRAM"
      ]
    },
    {
      "cell_type": "code",
      "metadata": {
        "id": "8dNbAXK4mEI4"
      },
      "source": [
        "RelIrr_Uni_SVMFeature_Text = pd.read_csv('/content/drive/MyDrive/Deadline/Coba Wilcoxon/RelIrel/Uni/Wilcoxon-RelIrr-Uni-SVM-Text.csv')\n",
        "RelIrr_Uni_SVMFeature_TextnCount = pd.read_csv('/content/drive/MyDrive/Deadline/Coba Wilcoxon/RelIrel/Uni/Wilcoxon-RelIrr-Uni-SVM-TextnCount.csv')\n",
        "RelIrr_Uni_SVMFeature_TextnJam = pd.read_csv('/content/drive/MyDrive/Deadline/Coba Wilcoxon/RelIrel/Uni/Wilcoxon-RelIrr-Uni-SVM-TextnJam.csv')\n",
        "\n",
        "RelIrr_Uni_Model_MLPA = pd.read_csv('/content/drive/MyDrive/Deadline/Coba Wilcoxon/RelIrel/Uni/Wilcoxon-RelIrr-Uni-Model-MLPA.csv')\n",
        "RelIrr_Uni_Model_MLPB = pd.read_csv('/content/drive/MyDrive/Deadline/Coba Wilcoxon/RelIrel/Uni/Wilcoxon-RelIrr-Uni-Model-MLPB.csv')\n",
        "RelIrr_Uni_Model_MLPC = pd.read_csv('/content/drive/MyDrive/Deadline/Coba Wilcoxon/RelIrel/Uni/Wilcoxon-RelIrr-Uni-Model-MLPC.csv')"
      ],
      "execution_count": null,
      "outputs": []
    },
    {
      "cell_type": "code",
      "metadata": {
        "colab": {
          "base_uri": "https://localhost:8080/"
        },
        "id": "4RvVuj69nLhJ",
        "outputId": "6abf30cb-393a-4ca7-9391-231b9d8789f9"
      },
      "source": [
        "#wilcoxon(RelIrr_Uni_SVMFeature_Text['before'], RelIrr_Uni_SVMFeature_Text['after'], correction=False)\n",
        "#wilcoxon(RelIrr_Uni_SVMFeature_TextnCount['before'], RelIrr_Uni_SVMFeature_TextnCount['after'], correction=False)\n",
        "#wilcoxon(RelIrr_Uni_SVMFeature_TextnJam['before'], RelIrr_Uni_SVMFeature_TextnJam['after'], correction=False)\n",
        "\n",
        "#wilcoxon(RelIrr_Uni_Model_MLPA['before'], PosNeg_Uni_Model_MLPA['after'], correction=False)\n",
        "#wilcoxon(RelIrr_Uni_Model_MLPB['before'], PosNeg_Uni_Model_MLPB['after'], correction=False)\n",
        "wilcoxon(RelIrr_Uni_Model_MLPC['before'], RelIrr_Uni_Model_MLPC['after'], correction=False)"
      ],
      "execution_count": null,
      "outputs": [
        {
          "output_type": "execute_result",
          "data": {
            "text/plain": [
              "WilcoxonResult(statistic=0.0, pvalue=0.005062032126267864)"
            ]
          },
          "metadata": {
            "tags": []
          },
          "execution_count": 32
        }
      ]
    },
    {
      "cell_type": "markdown",
      "metadata": {
        "id": "LokoAgzBZzvp"
      },
      "source": [
        "RELEVAN IRRELEVAN BIGRAM"
      ]
    },
    {
      "cell_type": "code",
      "metadata": {
        "id": "OZlraQc5Z3Y3"
      },
      "source": [
        "RelIrr_Bi_SVMFeature_All = pd.read_csv('/content/drive/MyDrive/Deadline/Coba Wilcoxon/RelIrel/Bi/Wilcoxon-RelIrr-Bi-SVM-All.csv')\n",
        "RelIrr_Bi_SVMFeature_TextnCount = pd.read_csv('/content/drive/MyDrive/Deadline/Coba Wilcoxon/RelIrel/Bi/Wilcoxon-RelIrr-Bi-SVM-TextnCount.csv')\n",
        "RelIrr_Bi_SVMFeature_Text = pd.read_csv('/content/drive/MyDrive/Deadline/Coba Wilcoxon/RelIrel/Bi/Wilcoxon-RelIrr-Bi-SVM-TextOnly.csv')\n",
        "\n",
        "RelIrr_Bi_Model_MLPA = pd.read_csv('/content/drive/MyDrive/Deadline/Coba Wilcoxon/RelIrel/Bi/Wilcoxon-RelIrr-Bi-Model-MLPA.csv')\n",
        "RelIrr_Bi_Model_MLPB = pd.read_csv('/content/drive/MyDrive/Deadline/Coba Wilcoxon/RelIrel/Bi/Wilcoxon-RelIrr-Bi-Model-MLPB.csv')\n",
        "RelIrr_Bi_Model_MLPC = pd.read_csv('/content/drive/MyDrive/Deadline/Coba Wilcoxon/RelIrel/Bi/Wilcoxon-RelIrr-Bi-Model-MLPC.csv')"
      ],
      "execution_count": null,
      "outputs": []
    },
    {
      "cell_type": "code",
      "metadata": {
        "colab": {
          "base_uri": "https://localhost:8080/"
        },
        "id": "EdPk9w56Z6WJ",
        "outputId": "1e64192c-8c29-40c2-8c14-55cb9dcadffc"
      },
      "source": [
        "#wilcoxon(RelIrr_Bi_SVMFeature_All['before'], RelIrr_Bi_SVMFeature_All['after'], correction=False)\n",
        "#wilcoxon(RelIrr_Bi_SVMFeature_TextnCount['before'], RelIrr_Bi_SVMFeature_TextnCount['after'], correction=False)\n",
        "#wilcoxon(RelIrr_Bi_SVMFeature_Text['before'], RelIrr_Bi_SVMFeature_Text['after'], correction=False)\n",
        "\n",
        "#wilcoxon(RelIrr_Bi_Model_MLPA['before'], RelIrr_Bi_Model_MLPA['after'], correction=False)\n",
        "#wilcoxon(RelIrr_Bi_Model_MLPB['before'], RelIrr_Bi_Model_MLPB['after'], correction=False)\n",
        "wilcoxon(RelIrr_Bi_Model_MLPC['before'], RelIrr_Bi_Model_MLPC['after'], correction=False)"
      ],
      "execution_count": null,
      "outputs": [
        {
          "output_type": "execute_result",
          "data": {
            "text/plain": [
              "WilcoxonResult(statistic=0.0, pvalue=0.005062032126267864)"
            ]
          },
          "metadata": {
            "tags": []
          },
          "execution_count": 10
        }
      ]
    }
  ]
}